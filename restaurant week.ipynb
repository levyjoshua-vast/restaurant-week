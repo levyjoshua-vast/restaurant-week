{
 "metadata": {
  "name": "",
  "signature": "sha256:d7f5ee16b6ad83445f0eba150f12c83c9d4e25db23938862e123e67bfa28d34f"
 },
 "nbformat": 3,
 "nbformat_minor": 0,
 "worksheets": [
  {
   "cells": [
    {
     "cell_type": "markdown",
     "metadata": {},
     "source": [
      "Austin Restaurant Week Spring 2014\n",
      "=== \n",
      "http://restaurantweekaustin.com/ has lists of participating restaurants, but no map.  \n",
      "\n",
      "I'll use requests and beautiful soup to pull down names and addresses for lunch and brunch places.  Then use http://nominatim.openstreetmap.org/ to geocode, and folium to draw a map of those near the Vast office."
     ]
    },
    {
     "cell_type": "code",
     "collapsed": false,
     "input": [
      "import bs4\n",
      "import folium\n",
      "import pandas as pd\n",
      "import requests"
     ],
     "language": "python",
     "metadata": {},
     "outputs": []
    },
    {
     "cell_type": "code",
     "collapsed": false,
     "input": [
      "folium.initialize_notebook()"
     ],
     "language": "python",
     "metadata": {},
     "outputs": []
    },
    {
     "cell_type": "code",
     "collapsed": false,
     "input": [
      "def getAddress(link):\n",
      "    resp = requests.get(link)\n",
      "    if (resp.status_code != 200):\n",
      "        raise Exception(str(resp.status_code) + \"\\n\" + resp.text + \"\\n\" + link)\n",
      "    bs = bs4.BeautifulSoup(resp.text)\n",
      "    return bs.find(attrs={'class': 'pi-address'}).text[9:]"
     ],
     "language": "python",
     "metadata": {},
     "outputs": []
    },
    {
     "cell_type": "code",
     "collapsed": false,
     "input": [
      "def getNameAddress(url=\"http://restaurantweekaustin.com/category/restaurants/search-by-meal/lunch/\"):\n",
      "    resp = requests.get(url)\n",
      "    if (resp.status_code != 200):\n",
      "        raise Exception(str(resp.status_code) + \"\\n\" + resp.text + \"\\n\" + url)\n",
      "    bs = bs4.BeautifulSoup(resp.text)\n",
      "    return (dict(name=item.text, address=getAddress(item.attrs['href'])) for item in bs.findAll(attrs={'rel': 'bookmark'}))"
     ],
     "language": "python",
     "metadata": {},
     "outputs": []
    },
    {
     "cell_type": "code",
     "collapsed": false,
     "input": [
      "def geocode(addr):\n",
      "    \"\"\"\n",
      "    Some ad-hoc rules to normalize address before sending it to nominatim\n",
      "    \"\"\"\n",
      "    if 'Suite' in addr:\n",
      "        addr = addr[:addr.index('Suite') -1]\n",
      "    if 'Ste' in addr:\n",
      "        addr = addr[:addr.index('Ste') -1]    \n",
      "    if '#' in addr:\n",
      "        addr = addr[:addr.index('#') -1]  \n",
      "    addr = addr.replace('B West', 'W')\n",
      "    addr = addr.replace('West', 'W')\n",
      "    addr = addr.replace('East', 'E')\n",
      "    addr = addr.replace('Chavez Austin', 'Chavez St. Austin')\n",
      "    if 'Austin' not in addr:\n",
      "        addr += ', Austin, TX'\n",
      "   # print(addr)\n",
      "    result = requests.get(\"http://nominatim.openstreetmap.org/search?format=json&q=\"+addr).json()\n",
      "    if result:\n",
      "        return (result[0]['lon'], result[0]['lat'])"
     ],
     "language": "python",
     "metadata": {},
     "outputs": []
    },
    {
     "cell_type": "code",
     "collapsed": false,
     "input": [
      "def makeFrame(url=\"http://restaurantweekaustin.com/category/restaurants/search-by-meal/lunch/\"):\n",
      "    df = pd.DataFrame(getNameAddress(url))\n",
      "    df['lonlat'] = df.address.map(geocode)\n",
      "    return df\n",
      "lunch = makeFrame()"
     ],
     "language": "python",
     "metadata": {},
     "outputs": []
    },
    {
     "cell_type": "code",
     "collapsed": false,
     "input": [
      "brunch = makeFrame(\"http://restaurantweekaustin.com/category/restaurants/search-by-meal/brunch-search-by-meal-restaurants/\")\n",
      "brunch"
     ],
     "language": "python",
     "metadata": {},
     "outputs": []
    },
    {
     "cell_type": "markdown",
     "metadata": {},
     "source": [
      "Hack!  Manuel's (both locations) are open for lunch and brunch.  I'm dropping them from brunch before merging the two lists"
     ]
    },
    {
     "cell_type": "code",
     "collapsed": false,
     "input": [
      "lunchAndBrunch = pd.concat([lunch, brunch.ix[brunch.name.map(lambda s:not s.startswith('Manuel'))]], ignore_index=True)\n",
      "lunchAndBrunch"
     ],
     "language": "python",
     "metadata": {},
     "outputs": []
    },
    {
     "cell_type": "markdown",
     "metadata": {},
     "source": [
      "Draws a map of places roughly walking distance to Vast"
     ]
    },
    {
     "cell_type": "code",
     "collapsed": false,
     "input": [
      "def makeMap(df):\n",
      "    map_osm = folium.Map([30.2680523673469, -97.7430834285714], zoom_start=16)\n",
      "    map_osm.circle_marker([30.2680523673469, -97.7430834285714], fill_color='blue', popup='Vast', radius=16)\n",
      "    for _, row in df.iterrows():\n",
      "        if row['lonlat'] is not None:\n",
      "            map_osm.simple_marker(location=row['lonlat'][::-1], popup=(('<b>' + row['name'] + '</b>: ' + row['address']).encode('ascii', 'xmlcharrefreplace')))\n",
      "    map_osm.create_map(path='restaurant_week.html')\n",
      "    return map_osm\n",
      "makeMap(lunchAndBrunch.dropna())"
     ],
     "language": "python",
     "metadata": {},
     "outputs": []
    },
    {
     "cell_type": "markdown",
     "metadata": {},
     "source": [
      "I didn't get all of the restuarants, but this is good enough for now.  Just cut and past the pandas frame for the few I missed"
     ]
    },
    {
     "cell_type": "code",
     "collapsed": false,
     "input": [
      "print(lunchAndBrunch.ix[lunchAndBrunch.lonlat.fillna(0) == 0].drop('lonlat',1)[['name', 'address']]._repr_html_())"
     ],
     "language": "python",
     "metadata": {},
     "outputs": []
    },
    {
     "cell_type": "code",
     "collapsed": false,
     "input": [],
     "language": "python",
     "metadata": {},
     "outputs": []
    }
   ],
   "metadata": {}
  }
 ]
}